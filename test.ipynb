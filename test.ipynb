{
 "cells": [
  {
   "cell_type": "code",
   "execution_count": null,
   "metadata": {},
   "outputs": [],
   "source": ""
  },
  {
   "cell_type": "code",
   "execution_count": 2,
   "metadata": {},
   "outputs": [
    {
     "name": "stdout",
     "output_type": "stream",
     "text": [
      "    hash  block_height           local_time             utc_time    sender  \\\n",
      "0  hash1           100  2023-01-01 08:00:00  2023-01-01 00:00:00  address1   \n",
      "\n",
      "   receiver  amount symbol token_address  is_confirmed  \n",
      "0  address2     100    BTC      btc_addr          True  \n"
     ]
    }
   ],
   "source": ""
  },
  {
   "cell_type": "code",
   "execution_count": 3,
   "metadata": {},
   "outputs": [
    {
     "data": {
      "text/html": [
       "<div>\n",
       "<style scoped>\n",
       "    .dataframe tbody tr th:only-of-type {\n",
       "        vertical-align: middle;\n",
       "    }\n",
       "\n",
       "    .dataframe tbody tr th {\n",
       "        vertical-align: top;\n",
       "    }\n",
       "\n",
       "    .dataframe thead th {\n",
       "        text-align: right;\n",
       "    }\n",
       "</style>\n",
       "<table border=\"1\" class=\"dataframe\">\n",
       "  <thead>\n",
       "    <tr style=\"text-align: right;\">\n",
       "      <th></th>\n",
       "      <th>hash</th>\n",
       "      <th>block_height</th>\n",
       "      <th>local_time</th>\n",
       "      <th>utc_time</th>\n",
       "      <th>sender</th>\n",
       "      <th>receiver</th>\n",
       "      <th>amount</th>\n",
       "      <th>symbol</th>\n",
       "      <th>token_address</th>\n",
       "      <th>is_confirmed</th>\n",
       "    </tr>\n",
       "  </thead>\n",
       "  <tbody>\n",
       "    <tr>\n",
       "      <th>0</th>\n",
       "      <td>hash1</td>\n",
       "      <td>100</td>\n",
       "      <td>2023-01-01 08:00:00</td>\n",
       "      <td>2023-01-01 00:00:00</td>\n",
       "      <td>address1</td>\n",
       "      <td>address2</td>\n",
       "      <td>100</td>\n",
       "      <td>BTC</td>\n",
       "      <td>btc_addr</td>\n",
       "      <td>True</td>\n",
       "    </tr>\n",
       "  </tbody>\n",
       "</table>\n",
       "</div>"
      ],
      "text/plain": [
       "    hash  block_height           local_time             utc_time    sender  \\\n",
       "0  hash1           100  2023-01-01 08:00:00  2023-01-01 00:00:00  address1   \n",
       "\n",
       "   receiver  amount symbol token_address  is_confirmed  \n",
       "0  address2     100    BTC      btc_addr          True  "
      ]
     },
     "execution_count": 3,
     "metadata": {},
     "output_type": "execute_result"
    }
   ],
   "source": [
    "# 读取目录的所有cs，存到 mongodb\n",
    "import os\n",
    "\n",
    "paths = 'C:/Users/Administrator/Desktop/cs'\n",
    "# os.walk\n",
    "for root, dirs, files in os.walk(paths):\n",
    "    for file_name in files:\n",
    "        if 'csv' in file_name:\n",
    "            bt.store_dataframe(pd.read_csv(root + file_name))\n",
    "print('success')"
   ]
  },
  {
   "cell_type": "code",
   "execution_count": 12,
   "metadata": {},
   "outputs": [
    {
     "name": "stdout",
     "output_type": "stream",
     "text": [
      "ExpressionStatement\n"
     ]
    }
   ],
   "source": [
    "import esprima\n",
    "\n",
    "# 你的JavaScript代码\n",
    "with  open('ont.js', 'r') as file:  # 替换为你的JavaScript文件路径\n",
    "    js_code = file.read()\n",
    "\n",
    "syntax_tree = esprima.parseScript(js_code)\n",
    "\n",
    "# 找到目标函数\n",
    "target_var = None\n",
    "funcs_at_same_level = []\n",
    "\n",
    "for statement in syntax_tree.body:\n",
    "    print(statement.type)\n",
    "    if statement.type == 'VariableDeclaration':\n",
    "        print(statement.declarations)\n",
    "        for decl in statement.declarations:\n",
    "            if decl.id.name == 'Oe':\n",
    "                target_var = statement\n",
    "                print(target_var)  # 输出变量声明语句\n",
    "            elif target_var and decl.id.name == 'r' and isinstance(decl.init, esprima.nodes.FunctionExpression):\n",
    "                funcs_at_same_level.append(decl)\n",
    "\n",
    "# 打印找到的函数\n",
    "for func in funcs_at_same_level:\n",
    "    print(func.id.name)\n"
   ]
  },
  {
   "cell_type": "code",
   "execution_count": 23,
   "metadata": {},
   "outputs": [
    {
     "name": "stdout",
     "output_type": "stream",
     "text": [
      "{\"total\":1,\"code\":0,\"contractMap\":{\"TDqSquXBgUCLYvYC4XZgrprLK589dkhSCf\":false},\"data\":[{\"outAmountUsd\":11908406.54555,\"inAmountUsd\":0,\"address\":\"TDqSquXBgUCLYvYC4XZgrprLK589dkhSCf\",\"addressTag\":\"Binance-Hot 7\",\"outNum\":392,\"inNum\":0}],\"contractInfo\":{},\"refreshTimeInfo\":{\"timeToRefresh\":88200,\"lastUpdateTime\":\"1717634495\"}}\n"
     ]
    }
   ],
   "source": [
    "import requests\n",
    "\n",
    "url = f\"https://apilist.tronscanapi.com/api/deep/account/relatedAccount?address=TT5zSX8tKKe89Hxw6zzrJMBRBJvsmiwHjZ&direction=2&startTime=0&endTime=1717634495&relatedToken=TR7NHqjeKQxGTCi8q8ZY4pL8otSzgjLj6t\"\n",
    "\n",
    "headers = {\"accept\": \"application/json\"}\n",
    "\n",
    "response = requests.get(url, headers=headers)\n",
    "\n",
    "print(response.text)"
   ]
  },
  {
   "cell_type": "code",
   "execution_count": 25,
   "metadata": {},
   "outputs": [
    {
     "name": "stdout",
     "output_type": "stream",
     "text": [
      "{\"transferIn\":2380,\"transferOut\":1780}\n",
      "\n"
     ]
    }
   ],
   "source": [
    "import requests\n",
    "\n",
    "url = f\"https://apilist.tronscanapi.com/api/deep/account/holderToken/basicInfo/trc20/transfer?accountAddress=TT5zSX8tKKe89Hxw6zzrJMBRBJvsmiwHjZ&tokenAddress=TR7NHqjeKQxGTCi8q8ZY4pL8otSzgjLj6t\"\n",
    "\n",
    "headers = {\"accept\": \"application/json\"}\n",
    "\n",
    "response = requests.get(url, headers=headers)\n",
    "\n",
    "print(response.text)"
   ]
  },
  {
   "cell_type": "code",
   "execution_count": 48,
   "metadata": {},
   "outputs": [
    {
     "name": "stdout",
     "output_type": "stream",
     "text": [
      "{\"code\":0,\"refreshTimeInfo\":{\"timeToRefresh\":88200,\"lastUpdateTime\":\"1717634495\"},\"transfer_out\":{\"total\":4,\"contractMap\":{\"TC2J6LjQx82PcrssYCwvuoo7z2nDGnfhdB\":false,\"TT5zSX8tKKe89Hxw6zzrJMBRBJvsmiwHjZ\":false,\"TFZKYzs6NG5K5ZEEdmF7nMLbV7Un1H7iva\":false,\"TKdvo4djAFt1TbBtD2XEMhkGVQrjzTGukH\":false},\"data\":[{\"address\":\"TT5zSX8tKKe89Hxw6zzrJMBRBJvsmiwHjZ\",\"amountInUsd\":72411.12268300001,\"addressTag\":\"TT5zSX8tKKe89Hxw6zzrJMBRBJvsmiwHjZ\"},{\"address\":\"TKdvo4djAFt1TbBtD2XEMhkGVQrjzTGukH\",\"amountInUsd\":48765.513392,\"addressTag\":\"TKdvo4djAFt1TbBtD2XEMhkGVQrjzTGukH\"},{\"address\":\"TC2J6LjQx82PcrssYCwvuoo7z2nDGnfhdB\",\"amountInUsd\":100.987498,\"addressTag\":\"TC2J6LjQx82PcrssYCwvuoo7z2nDGnfhdB\"},{\"address\":\"TFZKYzs6NG5K5ZEEdmF7nMLbV7Un1H7iva\",\"amountInUsd\":72.465388,\"addressTag\":\"TFZKYzs6NG5K5ZEEdmF7nMLbV7Un1H7iva\"}],\"contractInfo\":{},\"amountTotal\":121350.08896100002},\"transfer_in\":{\"total\":19,\"contractMap\":{\"TJyCkNamnmpC8tqMUo3MRqG4try1gUJEwM\":false,\"TKPq6eifY2ZVHWsqG7RQvdSqYSx3ZTPfrZ\":false,\"TWSLzZR1rcpK6DbRRWcn9W3R3LPckY5mfH\":false,\"TPX1Uqorqofu35PHgr68Hbsib2eqpQY4Nq\":false,\"TJpH9KMRQg3qnReSrLS2GZEJHCqzQiL3hM\":false,\"TMWE3HeqExBiTS49FAGpPxKiwZ9yEJry4W\":false,\"TBA6CypYJizwA9XdC7Ubgc5F1bxrQ7SqPt\":false,\"TUpHuDkiCCmwaTZBHZvQdwWzGNm5t8J2b9\":false,\"TYL4tEfWrXQNBjZmiNPm7ngB9x1qna3Eda\":false,\"TDqSquXBgUCLYvYC4XZgrprLK589dkhSCf\":false,\"TThsSTCFrE35skt7fyHCx5VwPSstNtRTmQ\":false,\"TAzsQ9Gx8eqFNFSKbeXrbi45CuVPHzA8wr\":false,\"TNXoiAJ3dct8Fjg4M9fkLFh9S2v9TXc32G\":false,\"TJDENsfBJs4RFETt1X1W8wMDc8M5XnJhCe\":false,\"TYASr5UV6HEcXatwdFQfmLVUqQQQMUxHLS\":false,\"TN2diWHmXA9F4g3HBMcLN2RCtiDciWHx97\":false,\"TU4vEruvZwLLkSfV9bNw12EJTPvNr7Pvaa\":false,\"TASGyZmtT8osEhXUoeBb1oJ7XBUEdmUWmj\":false,\"TQrY8tryqsYVCYS3MFbtffiPp2ccyn4STm\":false},\"data\":[{\"address\":\"TYL4tEfWrXQNBjZmiNPm7ngB9x1qna3Eda\",\"amountInUsd\":27202.857877000002,\"addressTag\":\"TYL4tEfWrXQNBjZmiNPm7ngB9x1qna3Eda\"},{\"address\":\"TWSLzZR1rcpK6DbRRWcn9W3R3LPckY5mfH\",\"amountInUsd\":18782.133902,\"addressTag\":\"TWSLzZR1rcpK6DbRRWcn9W3R3LPckY5mfH\"},{\"address\":\"TJDENsfBJs4RFETt1X1W8wMDc8M5XnJhCe\",\"amountInUsd\":13277.263570000001,\"addressTag\":\"Binance-Hot 6\"},{\"address\":\"TJpH9KMRQg3qnReSrLS2GZEJHCqzQiL3hM\",\"amountInUsd\":11103.178781999999,\"addressTag\":\"TJpH9KMRQg3qnReSrLS2GZEJHCqzQiL3hM\"},{\"address\":\"TYASr5UV6HEcXatwdFQfmLVUqQQQMUxHLS\",\"amountInUsd\":8979.701869,\"addressTag\":\"Binance-Hot 3\"},{\"address\":\"TQrY8tryqsYVCYS3MFbtffiPp2ccyn4STm\",\"amountInUsd\":8310.606299000001,\"addressTag\":\"Binance 2\"},{\"address\":\"TU4vEruvZwLLkSfV9bNw12EJTPvNr7Pvaa\",\"amountInUsd\":7743.073092,\"addressTag\":\"bybit\"},{\"address\":\"TBA6CypYJizwA9XdC7Ubgc5F1bxrQ7SqPt\",\"amountInUsd\":4492.061292,\"addressTag\":\"Gate\"},{\"address\":\"TNXoiAJ3dct8Fjg4M9fkLFh9S2v9TXc32G\",\"amountInUsd\":3269.45541,\"addressTag\":\"Binance-Hot 4\"},{\"address\":\"TPX1Uqorqofu35PHgr68Hbsib2eqpQY4Nq\",\"amountInUsd\":2601.068083,\"addressTag\":\"TPX1Uqorqofu35PHgr68Hbsib2eqpQY4Nq\"},{\"address\":\"TJyCkNamnmpC8tqMUo3MRqG4try1gUJEwM\",\"amountInUsd\":2583.024814,\"addressTag\":\"TJyCkNamnmpC8tqMUo3MRqG4try1gUJEwM\"},{\"address\":\"TDqSquXBgUCLYvYC4XZgrprLK589dkhSCf\",\"amountInUsd\":2255.566299,\"addressTag\":\"Binance-Hot 7\"},{\"address\":\"TAzsQ9Gx8eqFNFSKbeXrbi45CuVPHzA8wr\",\"amountInUsd\":1930.575636,\"addressTag\":\"Binance-Hot 5\"},{\"address\":\"TN2diWHmXA9F4g3HBMcLN2RCtiDciWHx97\",\"amountInUsd\":1675.42472,\"addressTag\":\"TN2diWHmXA9F4g3HBMcLN2RCtiDciWHx97\"},{\"address\":\"TMWE3HeqExBiTS49FAGpPxKiwZ9yEJry4W\",\"amountInUsd\":1520.345784,\"addressTag\":\"TMWE3HeqExBiTS49FAGpPxKiwZ9yEJry4W\"},{\"address\":\"TThsSTCFrE35skt7fyHCx5VwPSstNtRTmQ\",\"amountInUsd\":1392.088111,\"addressTag\":\"TThsSTCFrE35skt7fyHCx5VwPSstNtRTmQ\"},{\"address\":\"TKPq6eifY2ZVHWsqG7RQvdSqYSx3ZTPfrZ\",\"amountInUsd\":391.960123,\"addressTag\":\"TKPq6eifY2ZVHWsqG7RQvdSqYSx3ZTPfrZ\"},{\"address\":\"TASGyZmtT8osEhXUoeBb1oJ7XBUEdmUWmj\",\"amountInUsd\":191.675212,\"addressTag\":\"TASGyZmtT8osEhXUoeBb1oJ7XBUEdmUWmj\"},{\"address\":\"TUpHuDkiCCmwaTZBHZvQdwWzGNm5t8J2b9\",\"amountInUsd\":4.907377,\"addressTag\":\"Kucoin 4\"}],\"contractInfo\":{},\"amountTotal\":117706.968252}}\n"
     ]
    }
   ],
   "source": [
    "import requests\n",
    "\n",
    "url = f\"https://apilist.tronscanapi.com/api/deep/account/transferAmount?address=TLJYoMExTgdgGZZRLtbBtd3Lj8cx5wwCCY\"\n",
    "\n",
    "headers = {\"accept\": \"application/json\"}\n",
    "\n",
    "response = requests.get(url, headers=headers)\n",
    "\n",
    "print(response.text)"
   ]
  },
  {
   "cell_type": "code",
   "execution_count": 49,
   "metadata": {},
   "outputs": [],
   "source": [
    "import json\n",
    "\n",
    "result = json.loads(response.text)"
   ]
  },
  {
   "cell_type": "code",
   "metadata": {
    "ExecuteTime": {
     "end_time": "2024-06-08T09:41:06.250417Z",
     "start_time": "2024-06-08T09:41:06.236417Z"
    }
   },
   "source": [
    "{'Content-Type': 'application/json', 'TRON-PRO-API-KEY': '092b475c-ed7c-4834-81d3-aba29ffadded',\n",
    " 'accept': 'text/html,application/xhtml+xml,application/xml;q=0.9,image/avif,image/webp,image/apng,*/*;q=0.8,application/signed-exchange;v=b3;q=0.7',\n",
    " 'priority': 'u=0,i', 'upgrade-insecure-requests': '1'}\n"
   ],
   "outputs": [
    {
     "ename": "SyntaxError",
     "evalue": "unterminated string literal (detected at line 1) (774024444.py, line 1)",
     "output_type": "error",
     "traceback": [
      "\u001B[1;36m  Cell \u001B[1;32mIn[3], line 1\u001B[1;36m\u001B[0m\n\u001B[1;33m    {'Content-Type':'application/json','TRON-PRO-API-KEY':'092b475c-ed7c-4834-81d3-aba29ffadded','accept':'text/html,application/xhtml+xml,application/xml;q=0.9,image/avif,image/webp,image/apng,*/*;q=0.8,application/signed-exchange;v=b3;q=0.7','accept-language':'zh-CN,zh;q=0.9,en-US;q=0.8,en;q=0.7,en-GB;q=0.6','cache-control':'no-cache','pragma':'no-cache','priority':'u=0,i','sec-ch-ua':\"Not/A)Brand';v='8','Chromium';v='126','MicrosoftEdge';v='126'','sec-ch-ua-mobile':'?0','sec-ch-ua-platform':''Windows'','sec-fetch-dest':'document','sec-fetch-mode':'navigate','sec-fetch-site':'none','sec-fetch-user':'?1','upgrade-insecure-requests':'1'}\u001B[0m\n\u001B[1;37m                                                                                                                                                                                                                                                                                                                                                                                                      ^\u001B[0m\n\u001B[1;31mSyntaxError\u001B[0m\u001B[1;31m:\u001B[0m unterminated string literal (detected at line 1)\n"
     ]
    }
   ],
   "execution_count": 3
  },
  {
   "cell_type": "code",
   "metadata": {
    "ExecuteTime": {
     "end_time": "2024-06-08T09:17:27.498050Z",
     "start_time": "2024-06-08T09:17:27.488053Z"
    }
   },
   "source": [
    "formatted_string = \"{{'Ok-Access-Key': '{api_key}'}}\".format(api_key=123)\n",
    "formatted_string\n"
   ],
   "outputs": [
    {
     "data": {
      "text/plain": [
       "\"{'Ok-Access-Key': '123'}\""
      ]
     },
     "execution_count": 2,
     "metadata": {},
     "output_type": "execute_result"
    }
   ],
   "execution_count": 2
  },
  {
   "metadata": {},
   "cell_type": "code",
   "outputs": [],
   "execution_count": null,
   "source": "\n"
  },
  {
   "metadata": {},
   "cell_type": "code",
   "outputs": [],
   "execution_count": null,
   "source": ""
  },
  {
   "metadata": {
    "ExecuteTime": {
     "end_time": "2024-06-08T22:47:42.078791Z",
     "start_time": "2024-06-08T22:47:41.653743Z"
    }
   },
   "cell_type": "code",
   "source": [
    "import requests\n",
    "import trx_address"
   ],
   "outputs": [],
   "execution_count": 2
  },
  {
   "metadata": {
    "ExecuteTime": {
     "end_time": "2024-06-09T00:05:50.721651Z",
     "start_time": "2024-06-09T00:05:49.203991Z"
    }
   },
   "cell_type": "code",
   "source": [
    "headers = {\"accept\": \"application/json\",'TRON-PRO-API-KEY':'3eede6aa-571a-44df-a071-0f4f17e553d2'}\n",
    "data = requests.get(\n",
    "    f'https://apilist.tronscanapi.com/api/account/analysis?address=TCVjA7zWe948um1N5mmS8iB2DK2Hbw5Z25&type=1&start_timestamp=1696491915372&end_timestamp=1698631527934').json()"
   ],
   "outputs": [],
   "execution_count": 20
  },
  {
   "metadata": {
    "ExecuteTime": {
     "end_time": "2024-06-09T00:05:51.895190Z",
     "start_time": "2024-06-09T00:05:51.880187Z"
    }
   },
   "cell_type": "code",
   "source": "data",
   "outputs": [
    {
     "data": {
      "text/plain": [
       "{'size': 25,\n",
       " 'data': [{'day': '2023-10-05', 'transfer_count': 6, 'token_count': 2},\n",
       "  {'day': '2023-10-06', 'transfer_count': 69, 'token_count': 4},\n",
       "  {'day': '2023-10-07', 'transfer_count': 91, 'token_count': 4},\n",
       "  {'day': '2023-10-08', 'transfer_count': 76, 'token_count': 3},\n",
       "  {'day': '2023-10-09', 'transfer_count': 103, 'token_count': 3},\n",
       "  {'day': '2023-10-10', 'transfer_count': 90, 'token_count': 3},\n",
       "  {'day': '2023-10-11', 'transfer_count': 110, 'token_count': 3},\n",
       "  {'day': '2023-10-12', 'transfer_count': 110, 'token_count': 5},\n",
       "  {'day': '2023-10-13', 'transfer_count': 110, 'token_count': 5},\n",
       "  {'day': '2023-10-14', 'transfer_count': 87, 'token_count': 5},\n",
       "  {'day': '2023-10-15', 'transfer_count': 106, 'token_count': 4},\n",
       "  {'day': '2023-10-16', 'transfer_count': 89, 'token_count': 4},\n",
       "  {'day': '2023-10-17', 'transfer_count': 102, 'token_count': 4},\n",
       "  {'day': '2023-10-18', 'transfer_count': 103, 'token_count': 5},\n",
       "  {'day': '2023-10-19', 'transfer_count': 78, 'token_count': 5},\n",
       "  {'day': '2023-10-20', 'transfer_count': 109, 'token_count': 5},\n",
       "  {'day': '2023-10-21', 'transfer_count': 72, 'token_count': 6},\n",
       "  {'day': '2023-10-22', 'transfer_count': 57, 'token_count': 4},\n",
       "  {'day': '2023-10-23', 'transfer_count': 85, 'token_count': 5},\n",
       "  {'day': '2023-10-24', 'transfer_count': 73, 'token_count': 3},\n",
       "  {'day': '2023-10-25', 'transfer_count': 88, 'token_count': 4},\n",
       "  {'day': '2023-10-26', 'transfer_count': 85, 'token_count': 3},\n",
       "  {'day': '2023-10-27', 'transfer_count': 108, 'token_count': 4},\n",
       "  {'day': '2023-10-28', 'transfer_count': 85, 'token_count': 4},\n",
       "  {'day': '2023-10-29', 'transfer_count': 64, 'token_count': 4}]}"
      ]
     },
     "execution_count": 21,
     "metadata": {},
     "output_type": "execute_result"
    }
   ],
   "execution_count": 21
  },
  {
   "metadata": {
    "ExecuteTime": {
     "end_time": "2024-06-08T22:55:09.782456Z",
     "start_time": "2024-06-08T22:55:09.779457Z"
    }
   },
   "cell_type": "code",
   "source": "sum(day['transfer_count'] for day in data['data'])",
   "outputs": [
    {
     "data": {
      "text/plain": [
       "44963"
      ]
     },
     "execution_count": 11,
     "metadata": {},
     "output_type": "execute_result"
    }
   ],
   "execution_count": 11
  },
  {
   "metadata": {
    "ExecuteTime": {
     "end_time": "2024-06-08T22:55:26.073401Z",
     "start_time": "2024-06-08T22:55:26.063401Z"
    }
   },
   "cell_type": "code",
   "source": "44963 - 13313",
   "outputs": [
    {
     "data": {
      "text/plain": [
       "31650"
      ]
     },
     "execution_count": 12,
     "metadata": {},
     "output_type": "execute_result"
    }
   ],
   "execution_count": 12
  },
  {
   "metadata": {
    "ExecuteTime": {
     "end_time": "2024-06-08T17:21:22.990502Z",
     "start_time": "2024-06-08T17:21:22.973502Z"
    }
   },
   "cell_type": "code",
   "source": [
    "print(trx_address.TrxAddress().get_start_and_end_time('TCVjA7zWe948um1N5mmS8iB2DK2Hbw5Z25',\n",
    "                                                      'TR7NHqjeKQxGTCi8q8ZY4pL8otSzgjLj6t', False))"
   ],
   "outputs": [
    {
     "ename": "NameError",
     "evalue": "name 'trx_address' is not defined",
     "output_type": "error",
     "traceback": [
      "\u001B[1;31m---------------------------------------------------------------------------\u001B[0m",
      "\u001B[1;31mNameError\u001B[0m                                 Traceback (most recent call last)",
      "Cell \u001B[1;32mIn[11], line 1\u001B[0m\n\u001B[1;32m----> 1\u001B[0m \u001B[38;5;28mprint\u001B[39m(\u001B[43mtrx_address\u001B[49m\u001B[38;5;241m.\u001B[39mTrxAddress()\u001B[38;5;241m.\u001B[39mget_start_and_end_time(\u001B[38;5;124m'\u001B[39m\u001B[38;5;124mTCVjA7zWe948um1N5mmS8iB2DK2Hbw5Z25\u001B[39m\u001B[38;5;124m'\u001B[39m,\n\u001B[0;32m      2\u001B[0m                                                       \u001B[38;5;124m'\u001B[39m\u001B[38;5;124mTR7NHqjeKQxGTCi8q8ZY4pL8otSzgjLj6t\u001B[39m\u001B[38;5;124m'\u001B[39m, \u001B[38;5;28;01mFalse\u001B[39;00m))\n",
      "\u001B[1;31mNameError\u001B[0m: name 'trx_address' is not defined"
     ]
    }
   ],
   "execution_count": 11
  },
  {
   "metadata": {
    "ExecuteTime": {
     "end_time": "2024-06-08T18:46:46.684581Z",
     "start_time": "2024-06-08T18:46:46.670747Z"
    }
   },
   "cell_type": "code",
   "source": [
    "# 假设有一个由字典组成的列表\n",
    "dict_list = [{'id': 1, 'name': 'Alice'}, {'id': 2, 'name': 'Bob'}, {'id': 3, 'name': 'Charlie'}]\n",
    "\n",
    "for i in dict_list[0].items():\n",
    "    print(i)"
   ],
   "outputs": [
    {
     "name": "stdout",
     "output_type": "stream",
     "text": [
      "('id', 1)\n",
      "('name', 'Alice')\n"
     ]
    }
   ],
   "execution_count": 21
  },
  {
   "metadata": {
    "ExecuteTime": {
     "end_time": "2024-06-10T11:37:13.113423Z",
     "start_time": "2024-06-10T11:37:11.489467Z"
    }
   },
   "cell_type": "code",
   "source": [
    "import asyncio\n",
    "import time\n",
    "from trx_address import ParallelTrxAddress\n",
    "\n",
    "\n",
    "async def main():\n",
    "    trx_address = ParallelTrxAddress(\n",
    "        proxy=\"http://127.0.0.1:1080\",\n",
    "        num_processes=8,\n",
    "    )\n",
    "    result = await trx_address.parallel_fetch_transfer_data(\n",
    "        \"TCVjA7zWe948um1N5mmS8iB2DK2Hbw5Z25\", \"TR7NHqjeKQxGTCi8q8ZY4pL8otSzgjLj6t\", False\n",
    "    )\n",
    "    result[0].drop_duplicates(subset=[\"transaction_id\"], keep=\"first\", inplace=True)\n",
    "    print(result)\n",
    "    \n",
    "    end_time = time.time()\n",
    "    print(end_time - end_time)\n",
    "\n",
    "asyncio.run(main())"
   ],
   "outputs": [
    {
     "ename": "RuntimeError",
     "evalue": "asyncio.run() cannot be called from a running event loop",
     "output_type": "error",
     "traceback": [
      "\u001B[1;31m---------------------------------------------------------------------------\u001B[0m",
      "\u001B[1;31mRuntimeError\u001B[0m                              Traceback (most recent call last)",
      "Cell \u001B[1;32mIn[1], line 20\u001B[0m\n\u001B[0;32m     17\u001B[0m     end_time \u001B[38;5;241m=\u001B[39m time\u001B[38;5;241m.\u001B[39mtime()\n\u001B[0;32m     18\u001B[0m     \u001B[38;5;28mprint\u001B[39m(end_time \u001B[38;5;241m-\u001B[39m end_time)\n\u001B[1;32m---> 20\u001B[0m \u001B[43masyncio\u001B[49m\u001B[38;5;241;43m.\u001B[39;49m\u001B[43mrun\u001B[49m\u001B[43m(\u001B[49m\u001B[43mmain\u001B[49m\u001B[43m(\u001B[49m\u001B[43m)\u001B[49m\u001B[43m)\u001B[49m\n",
      "File \u001B[1;32m~\\miniconda3\\lib\\asyncio\\runners.py:33\u001B[0m, in \u001B[0;36mrun\u001B[1;34m(main, debug)\u001B[0m\n\u001B[0;32m      9\u001B[0m \u001B[38;5;250m\u001B[39m\u001B[38;5;124;03m\"\"\"Execute the coroutine and return the result.\u001B[39;00m\n\u001B[0;32m     10\u001B[0m \n\u001B[0;32m     11\u001B[0m \u001B[38;5;124;03mThis function runs the passed coroutine, taking care of\u001B[39;00m\n\u001B[1;32m   (...)\u001B[0m\n\u001B[0;32m     30\u001B[0m \u001B[38;5;124;03m    asyncio.run(main())\u001B[39;00m\n\u001B[0;32m     31\u001B[0m \u001B[38;5;124;03m\"\"\"\u001B[39;00m\n\u001B[0;32m     32\u001B[0m \u001B[38;5;28;01mif\u001B[39;00m events\u001B[38;5;241m.\u001B[39m_get_running_loop() \u001B[38;5;129;01mis\u001B[39;00m \u001B[38;5;129;01mnot\u001B[39;00m \u001B[38;5;28;01mNone\u001B[39;00m:\n\u001B[1;32m---> 33\u001B[0m     \u001B[38;5;28;01mraise\u001B[39;00m \u001B[38;5;167;01mRuntimeError\u001B[39;00m(\n\u001B[0;32m     34\u001B[0m         \u001B[38;5;124m\"\u001B[39m\u001B[38;5;124masyncio.run() cannot be called from a running event loop\u001B[39m\u001B[38;5;124m\"\u001B[39m)\n\u001B[0;32m     36\u001B[0m \u001B[38;5;28;01mif\u001B[39;00m \u001B[38;5;129;01mnot\u001B[39;00m coroutines\u001B[38;5;241m.\u001B[39miscoroutine(main):\n\u001B[0;32m     37\u001B[0m     \u001B[38;5;28;01mraise\u001B[39;00m \u001B[38;5;167;01mValueError\u001B[39;00m(\u001B[38;5;124m\"\u001B[39m\u001B[38;5;124ma coroutine was expected, got \u001B[39m\u001B[38;5;132;01m{!r}\u001B[39;00m\u001B[38;5;124m\"\u001B[39m\u001B[38;5;241m.\u001B[39mformat(main))\n",
      "\u001B[1;31mRuntimeError\u001B[0m: asyncio.run() cannot be called from a running event loop"
     ]
    }
   ],
   "execution_count": 1
  },
  {
   "metadata": {
    "ExecuteTime": {
     "end_time": "2024-06-19T20:39:09.420726Z",
     "start_time": "2024-06-19T20:39:06.629908Z"
    }
   },
   "cell_type": "code",
   "source": "",
   "outputs": [],
   "execution_count": 1
  },
  {
   "metadata": {
    "ExecuteTime": {
     "end_time": "2024-06-19T20:39:24.478028Z",
     "start_time": "2024-06-19T20:39:24.438089Z"
    }
   },
   "cell_type": "code",
   "source": "df = pd.concat(dfs)",
   "outputs": [],
   "execution_count": 2
  },
  {
   "metadata": {
    "ExecuteTime": {
     "end_time": "2024-06-19T20:41:22.336214Z",
     "start_time": "2024-06-19T20:41:22.332178Z"
    }
   },
   "cell_type": "code",
   "source": "df.shape",
   "outputs": [
    {
     "data": {
      "text/plain": [
       "(276766, 14)"
      ]
     },
     "execution_count": 6,
     "metadata": {},
     "output_type": "execute_result"
    }
   ],
   "execution_count": 6
  },
  {
   "metadata": {},
   "cell_type": "code",
   "outputs": [],
   "execution_count": null,
   "source": ""
  }
 ],
 "metadata": {
  "kernelspec": {
   "display_name": "base",
   "language": "python",
   "name": "python3"
  },
  "language_info": {
   "codemirror_mode": {
    "name": "ipython",
    "version": 3
   },
   "file_extension": ".py",
   "mimetype": "text/x-python",
   "name": "python",
   "nbconvert_exporter": "python",
   "pygments_lexer": "ipython3",
   "version": "3.10.10"
  }
 },
 "nbformat": 4,
 "nbformat_minor": 2
}
