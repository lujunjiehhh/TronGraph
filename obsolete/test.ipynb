{
 "cells": [
  {
   "cell_type": "code",
   "execution_count": 4,
   "id": "initial_id",
   "metadata": {
    "collapsed": true,
    "ExecuteTime": {
     "end_time": "2023-10-18T14:43:35.902388150Z",
     "start_time": "2023-10-18T14:43:35.899142402Z"
    }
   },
   "outputs": [],
   "source": [
    "import pandas as pd\n",
    "\n",
    "addresses_df = pd.read_csv(\"address.csv\")"
   ]
  },
  {
   "cell_type": "code",
   "execution_count": 7,
   "outputs": [],
   "source": [
    "import networkx as nx\n",
    "# 读取总图\n",
    "edges_df = pd.read_csv(\"新币_edges.csv\")\n",
    "# 创建无向图\n",
    "target_addresses = list(addresses_df[\"address\"])\n",
    "\n",
    "G = nx.from_pandas_edgelist(\n",
    "    edges_df,\n",
    "    source=\"src\",\n",
    "    target=\"dst\",\n",
    "    create_using=nx.Graph(),\n",
    ")"
   ],
   "metadata": {
    "collapsed": false,
    "ExecuteTime": {
     "end_time": "2023-10-18T14:55:51.869302542Z",
     "start_time": "2023-10-18T14:55:51.612232716Z"
    }
   },
   "id": "e9bc447d06ff0cf9"
  },
  {
   "cell_type": "code",
   "execution_count": 9,
   "outputs": [
    {
     "name": "stdout",
     "output_type": "stream",
     "text": [
      "['TP5Ct1fCmhRConWimVpx4U9MwiMuExi9m2', 'TAkjeBKDkPvfqMnBYR6xMUu6yuYeeDW1w4', 'TUnfxLdNJj5k5dbwqoGty84WPKUvbUWcBn']\n",
      "['TP5Ct1fCmhRConWimVpx4U9MwiMuExi9m2', 'THCU33bM4qQVG7imFoN52zpEeds3XJuik4', 'TLA8r7Ez6MeF9mK4FH9g353oRDzExeg5xZ', 'TU9SL2uYiSwhimGtsatjmFM8bVuNn3nxy9']\n",
      "['TP5Ct1fCmhRConWimVpx4U9MwiMuExi9m2', 'TG6NpPCTsyvqsVdyDEFKVMJ4eJmLymHY1W', 'TQRW4oxi44PURCmpHZboushEQbBW7yu8B8']\n",
      "['TP5Ct1fCmhRConWimVpx4U9MwiMuExi9m2', 'TPst7zS6GbNDLgp1h7KF5pwFfTNMFBwLaC', 'TJkMFYgmnk7JX8CmaFVy66YeX6SKPKSt5g', 'TT33Yfg19d5v1rUNRUEY3Ujuz3JfS83sJ1']\n",
      "['TP5Ct1fCmhRConWimVpx4U9MwiMuExi9m2', 'TPpfULEYNtSWupcipEFsrTUQZ2fbH5ph9m', 'TP5NSFuPAmzyB7UrWtUfahwdH7yJBs6ohp', 'TSEr4wxnUADsZ2m6mNTuUumRvL5i9BjWL2', 'TCxYJkM8qQmDFeDLHmnBUiFR8kWqR1kxay']\n",
      "['TP5Ct1fCmhRConWimVpx4U9MwiMuExi9m2', 'THCU33bM4qQVG7imFoN52zpEeds3XJuik4', 'TVamJczPJbTL9jHMTfKe5s988k8syXffmp', 'TTcTEWGCLHcuywLCaBcD74p3sZ4pxQMUoY']\n",
      "['TP5Ct1fCmhRConWimVpx4U9MwiMuExi9m2', 'TBwDiwVdgmj27tD2Ls3TQhLYey4PwoX19p', 'TJiSHbQSvqzov9sSNAK4BCqYYpGeUe4Ams', 'TPqMKVqa925CoJXfz4y4AAousp2aMLnLG4']\n",
      "['TP5Ct1fCmhRConWimVpx4U9MwiMuExi9m2', 'TJ25YsKW7i9LPNFRdVN1M4szdMms8uJyyM', 'TKvGpmR3nhwG9PeDEWdSS2nnXEpExeD7Z7', 'TSsLv7aGpwxz5uoVWszQ5ixXGiGARwj5bs']\n",
      "['TP5Ct1fCmhRConWimVpx4U9MwiMuExi9m2', 'TBwDiwVdgmj27tD2Ls3TQhLYey4PwoX19p', 'TUXzKvKX96zckfg1LR9R4MdejqS7Zt3SAn']\n",
      "['TP5Ct1fCmhRConWimVpx4U9MwiMuExi9m2', 'TJ1H2nSepkSLiDsW88cF7aMJuG9JcuYe3X', 'TAGbdM4fdYw8LnnUPwxB62RYooAs328ydD', 'TCokVQvpsh5RGcZuTrq6nG8FtdfBgRJHua', 'TBFHQKxEupsxKh4xFE92YiFsdmfhzuj3K4']\n",
      "['TP5Ct1fCmhRConWimVpx4U9MwiMuExi9m2', 'THCU33bM4qQVG7imFoN52zpEeds3XJuik4', 'TVS3n59ZLQ5SHUr6uJMHibjnk3S4h8ApaY']\n",
      "['TP5Ct1fCmhRConWimVpx4U9MwiMuExi9m2', 'TPst7zS6GbNDLgp1h7KF5pwFfTNMFBwLaC', 'TUt9FDPsiUonVn6M8g7CJet7Z5T2Viyn6w']\n",
      "['TP5Ct1fCmhRConWimVpx4U9MwiMuExi9m2', 'TBwDiwVdgmj27tD2Ls3TQhLYey4PwoX19p', 'TAkNQJTZooA7krjhUgnUv9j3Npe4bYApby', 'TVLVPqQFpP8np3hqnkB1kL4r2gL2XhbC5e']\n",
      "['TP5Ct1fCmhRConWimVpx4U9MwiMuExi9m2', 'TJ1H2nSepkSLiDsW88cF7aMJuG9JcuYe3X', 'TAmx4RH6tSGGEb4ZzvTQBvEitdB6H9zCUu', 'TMR5xsP5ruTjtyqqWyktCAuo71wGELcfgF']\n",
      "['TP5Ct1fCmhRConWimVpx4U9MwiMuExi9m2', 'TCKrLHVtCHBpyLt2ujBH63w2gqqaghpQyN', 'TNq1Xj9QJ7ukktRDjRVqbskZCTjF4LdhfW', 'TWgjih2CT2a4PbbYjLc4mbfWdRTRMxcK7z']\n",
      "['TP5Ct1fCmhRConWimVpx4U9MwiMuExi9m2', 'TKvc9ZeoR7wMQbYXvbGLNePT6fdb4Z79P7', 'TBEmq3qK19L1WkaV9vdaLxFDStCsTZHTHq']\n",
      "['TP5Ct1fCmhRConWimVpx4U9MwiMuExi9m2', 'TJ1H2nSepkSLiDsW88cF7aMJuG9JcuYe3X', 'TLdJeUE7Z5WeoK4zGt1kAvXsecCwnYg8Sq', 'TU9tGzw7MoFXyTNKK9R3utcSboHzToueW1']\n",
      "['TP5Ct1fCmhRConWimVpx4U9MwiMuExi9m2', 'TCz47XgC9TjCeF4UzfB6qZbM9LTF9s1tG7', 'TEKonJ8pwULYpywsVXKUEnrvmHr3BW13KN']\n",
      "['TP5Ct1fCmhRConWimVpx4U9MwiMuExi9m2', 'TPst7zS6GbNDLgp1h7KF5pwFfTNMFBwLaC', 'TNsRszv5tPnkLkZq7v2dvqQxfa1X7J93Nf', 'TDKd3ar7LqLefzUdBJvihkmqZkMfCREFEH']\n",
      "['TP5Ct1fCmhRConWimVpx4U9MwiMuExi9m2', 'TDCm3Puu5Ry3Nwv3xpLWHaPufLyf341Bny', 'TBo3BKH5yFi8VooAByNHUzx6L73iwh2S3t', 'TEBA1SavsAvKNUkccyt3mfyfyyGWxGykK5', 'TSQRz2zwp2BEeTMoXvtWJ7eKrEbbFej3gz']\n",
      "['TP5Ct1fCmhRConWimVpx4U9MwiMuExi9m2', 'TDCm3Puu5Ry3Nwv3xpLWHaPufLyf341Bny', 'TBo3BKH5yFi8VooAByNHUzx6L73iwh2S3t', 'TEBA1SavsAvKNUkccyt3mfyfyyGWxGykK5', 'TAaBnHWU2CWNTzZWRj6oNBWeBJyzCf8nXA']\n",
      "['TP5Ct1fCmhRConWimVpx4U9MwiMuExi9m2', 'TJ25YsKW7i9LPNFRdVN1M4szdMms8uJyyM', 'TKvGpmR3nhwG9PeDEWdSS2nnXEpExeD7Z7', 'TJsFT6875t2nHkPYNDDrzsBPVDyiB8FWey']\n",
      "['TP5Ct1fCmhRConWimVpx4U9MwiMuExi9m2', 'TDCm3Puu5Ry3Nwv3xpLWHaPufLyf341Bny', 'TBo3BKH5yFi8VooAByNHUzx6L73iwh2S3t', 'TEBA1SavsAvKNUkccyt3mfyfyyGWxGykK5', 'TWVi1zWFEguYVMvKhj8Sr2u95JsmX8NYwo']\n",
      "['TP5Ct1fCmhRConWimVpx4U9MwiMuExi9m2', 'TDCm3Puu5Ry3Nwv3xpLWHaPufLyf341Bny', 'TBo3BKH5yFi8VooAByNHUzx6L73iwh2S3t', 'TEBA1SavsAvKNUkccyt3mfyfyyGWxGykK5', 'TPSdQhAe6FMwDxAnTaVmgaEThuvVUhv6KD']\n",
      "['TP5Ct1fCmhRConWimVpx4U9MwiMuExi9m2', 'TJ1H2nSepkSLiDsW88cF7aMJuG9JcuYe3X', 'TLdJeUE7Z5WeoK4zGt1kAvXsecCwnYg8Sq', 'TEcXBqWokwp9HE5s8SYqhNJ4vbZpAgu5Pp']\n",
      "['TP5Ct1fCmhRConWimVpx4U9MwiMuExi9m2', 'THCU33bM4qQVG7imFoN52zpEeds3XJuik4', 'TPEuC4dobuE3sDKx3M3Vx6prJ4i8C3wXUe', 'TQyJ146DcZjscNgobpN8k7b19tZv6BvfXf']\n",
      "['TP5Ct1fCmhRConWimVpx4U9MwiMuExi9m2', 'TADguvQY57tjbqePBRJYB5H7oyxUZBsDG2', 'TVCwY77ohbdKVaxarNAgdrfjUqpYqFn1E1']\n",
      "['TP5Ct1fCmhRConWimVpx4U9MwiMuExi9m2', 'THCU33bM4qQVG7imFoN52zpEeds3XJuik4', 'TGRXx4Jr3PKKFYx359pyHMqZzCwgcTzN2B']\n",
      "['TP5Ct1fCmhRConWimVpx4U9MwiMuExi9m2', 'TNANMFXnTZ5UBsHx4Hk7ViTgXu8KgwPfdh', 'TAdzo2Sy9qiSjMxiafaHVkm9joHhkgEF3y', 'TTsymrZgPUC3pVZAMMTkWUkx36nuUG2aBN']\n"
     ]
    }
   ],
   "source": [
    "def min_shortest_path(full_G, source_node, target_addresses):\n",
    "    for target_node in target_addresses:\n",
    "        # 打印最短路径\n",
    "        print(nx.shortest_path(full_G, source_node, target_node))            \n",
    "path_length = min_shortest_path(G, \"TP5Ct1fCmhRConWimVpx4U9MwiMuExi9m2\", target_addresses)"
   ],
   "metadata": {
    "collapsed": false,
    "ExecuteTime": {
     "end_time": "2023-10-18T15:00:54.918608297Z",
     "start_time": "2023-10-18T15:00:54.873254492Z"
    }
   },
   "id": "c0f7dcbb1f389440"
  },
  {
   "cell_type": "code",
   "execution_count": 13,
   "outputs": [
    {
     "data": {
      "text/plain": "array([[3.33333333e-03, 6.66666667e-03, 3.00000000e+00],\n       [6.66666667e-03, 8.33333333e-03, 6.00000000e+00],\n       [7.77777778e-03, 8.88888889e-03, 9.00000000e+00]])"
     },
     "execution_count": 13,
     "metadata": {},
     "output_type": "execute_result"
    }
   ],
   "source": [
    "import numpy as np\n",
    "\n",
    "# 创建示例数组\n",
    "arr = np.array([[1, 2, 3],\n",
    "                [4, 5, 6],\n",
    "                [7, 8, 9]])\n",
    "\n",
    "# 获取最后一列的索引\n",
    "last_column_index = arr.shape[1] - 1\n",
    "\n",
    "# 将最后一列的值提取出来\n",
    "last_column = arr[:, last_column_index]\n",
    "\n",
    "# 将每一行除以最后一列的100倍（但不除以最后一列本身）\n",
    "result = arr[:, :-1] / (last_column[:, np.newaxis] * 100)\n",
    "\n",
    "result = np.concatenate((result, last_column[:, np.newaxis]), axis=1)\n",
    "\n",
    "result"
   ],
   "metadata": {
    "collapsed": false,
    "ExecuteTime": {
     "end_time": "2023-10-22T19:24:31.588257005Z",
     "start_time": "2023-10-22T19:24:31.547011906Z"
    }
   },
   "id": "d82783af1f89f9f8"
  },
  {
   "cell_type": "code",
   "execution_count": 9,
   "outputs": [
    {
     "data": {
      "text/plain": "False"
     },
     "execution_count": 9,
     "metadata": {},
     "output_type": "execute_result"
    }
   ],
   "source": [
    "import numpy as np\n",
    "np.intersect1d(np.array([1,2]),np.array([3,4]), assume_unique=True, return_indices=True)[0].any()\n"
   ],
   "metadata": {
    "collapsed": false,
    "ExecuteTime": {
     "end_time": "2023-10-22T17:45:02.339298373Z",
     "start_time": "2023-10-22T17:45:02.279467638Z"
    }
   },
   "id": "9df2c9cae2a0e1f6"
  },
  {
   "cell_type": "code",
   "execution_count": 11,
   "outputs": [
    {
     "ename": "TypeError",
     "evalue": "'module' object is not callable",
     "output_type": "error",
     "traceback": [
      "\u001B[0;31m---------------------------------------------------------------------------\u001B[0m",
      "\u001B[0;31mTypeError\u001B[0m                                 Traceback (most recent call last)",
      "Cell \u001B[0;32mIn[11], line 3\u001B[0m\n\u001B[1;32m      1\u001B[0m \u001B[38;5;28;01mimport\u001B[39;00m \u001B[38;5;21;01mflamegraph\u001B[39;00m\n\u001B[0;32m----> 3\u001B[0m \u001B[38;5;129m@flamegraph\u001B[39m\n\u001B[1;32m      4\u001B[0m \u001B[38;5;28;01mdef\u001B[39;00m \u001B[38;5;21mfibonacci\u001B[39m(n):\n\u001B[1;32m      5\u001B[0m     \u001B[38;5;28;01mif\u001B[39;00m n \u001B[38;5;241m<\u001B[39m\u001B[38;5;241m=\u001B[39m \u001B[38;5;241m1\u001B[39m:\n\u001B[1;32m      6\u001B[0m         \u001B[38;5;28;01mreturn\u001B[39;00m n\n",
      "\u001B[0;31mTypeError\u001B[0m: 'module' object is not callable"
     ]
    }
   ],
   "source": [],
   "metadata": {
    "collapsed": false,
    "ExecuteTime": {
     "end_time": "2023-10-18T16:09:43.264773480Z",
     "start_time": "2023-10-18T16:09:43.221385844Z"
    }
   },
   "id": "3edeae6d13930e48"
  }
 ],
 "metadata": {
  "kernelspec": {
   "display_name": "Python 3",
   "language": "python",
   "name": "python3"
  },
  "language_info": {
   "codemirror_mode": {
    "name": "ipython",
    "version": 2
   },
   "file_extension": ".py",
   "mimetype": "text/x-python",
   "name": "python",
   "nbconvert_exporter": "python",
   "pygments_lexer": "ipython2",
   "version": "2.7.6"
  }
 },
 "nbformat": 4,
 "nbformat_minor": 5
}
